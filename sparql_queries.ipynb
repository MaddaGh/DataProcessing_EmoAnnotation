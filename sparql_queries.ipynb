{
 "cells": [
  {
   "cell_type": "code",
   "execution_count": 107,
   "metadata": {},
   "outputs": [],
   "source": [
    "from rdflib import *\n",
    "from rdflib.graph import Graph"
   ]
  },
  {
   "cell_type": "code",
   "execution_count": 108,
   "metadata": {},
   "outputs": [
    {
     "data": {
      "text/plain": [
       "<Graph identifier=N4c7562aeceba43b98475c4126ee8d788 (<class 'rdflib.graph.Graph'>)>"
      ]
     },
     "execution_count": 108,
     "metadata": {},
     "output_type": "execute_result"
    }
   ],
   "source": [
    "modelet1 = Graph()\n",
    "modelet1.parse(\"C:/Users/ghiot/Documents/TESI/last_onts/meaw_fin.ttl\", format=\"ttl\")"
   ]
  },
  {
   "cell_type": "code",
   "execution_count": 109,
   "metadata": {},
   "outputs": [
    {
     "data": {
      "text/plain": [
       "Namespace('https://raw.githubusercontent.com/MaddaGh/DataProcessing_EmoAnnotation/main/meaw.ttl#')"
      ]
     },
     "execution_count": 109,
     "metadata": {},
     "output_type": "execute_result"
    }
   ],
   "source": [
    "# I think this is not working cause I still get : and no other namespace\n",
    "ns = \"https://raw.githubusercontent.com/MaddaGh/DataProcessing_EmoAnnotation/main/meaw.ttl#\"\n",
    "meaw = Namespace(ns)\n",
    "meaw"
   ]
  },
  {
   "cell_type": "code",
   "execution_count": 110,
   "metadata": {},
   "outputs": [],
   "source": [
    "meaw = Namespace(\"https://raw.githubusercontent.com/MaddaGh/DataProcessing_EmoAnnotation/main/meaw.ttl#\")\n",
    "rdfs = Namespace(\"http://www.w3.org/2000/01/rdf-schema#\")\n",
    "owl = Namespace(\"http://www.w3.org/2002/07/owl#\")\n",
    "rdf = Namespace(\"http://www.w3.org/1999/02/22-rdf-syntax-ns#\")\n",
    "xsd = Namespace(\"http://www.w3.org/2001/XMLSchema#\")\n",
    "dul = Namespace(\"http://www.loa-cnr.it/ontologies/DUL.owl#\")\n",
    "modelet1.bind(\"meaw\", meaw)\n",
    "modelet1.bind(\"rdfs\", rdfs)\n",
    "modelet1.bind(\"owl\", owl)\n",
    "modelet1.bind(\"rdf\", rdf)\n",
    "modelet1.bind(\"xsd\", xsd)\n",
    "modelet1.bind(\"dul\", dul)"
   ]
  },
  {
   "cell_type": "code",
   "execution_count": null,
   "metadata": {},
   "outputs": [],
   "source": [
    "# checking triples\n",
    "\n",
    "for s,p,o in modelet1.triples((None, rdf.type, None)):\n",
    "    print(s, p, o)"
   ]
  },
  {
   "cell_type": "code",
   "execution_count": null,
   "metadata": {},
   "outputs": [],
   "source": [
    "print(modelet1.serialize(format=\"ttl\"))"
   ]
  },
  {
   "cell_type": "markdown",
   "metadata": {},
   "source": [
    "### Competency questions"
   ]
  },
  {
   "cell_type": "markdown",
   "metadata": {},
   "source": [
    "#### 1. Who participates in the talk show Welles Nietes?\n",
    "\n",
    "Expected result:\n",
    "\n",
    "The Id of a Person and, if named, their name.\n",
    "\n",
    "* 358uU9uAvl), Legien Kromkamp\n",
    "* Zqlw6RZQeX\n",
    "* iBhFqi9HqQ, Adelheid Roosen"
   ]
  },
  {
   "cell_type": "code",
   "execution_count": 113,
   "metadata": {},
   "outputs": [
    {
     "name": "stdout",
     "output_type": "stream",
     "text": [
      "(rdflib.term.URIRef('https://raw.githubusercontent.com/MaddaGh/DataProcessing_EmoAnnotation/main/meaw.ttl#Zqlw6RZQeX'), None)\n",
      "\n",
      "\n",
      "(rdflib.term.URIRef('https://raw.githubusercontent.com/MaddaGh/DataProcessing_EmoAnnotation/main/meaw.ttl#iBhFqi9HqQ'), rdflib.term.Literal('Adelheid Roosen'))\n",
      "\n",
      "\n",
      "(rdflib.term.URIRef('https://raw.githubusercontent.com/MaddaGh/DataProcessing_EmoAnnotation/main/meaw.ttl#358uU9uAvI'), rdflib.term.Literal('Legien Kromkamp'))\n",
      "\n",
      "\n"
     ]
    }
   ],
   "source": [
    "cq1 = \"\"\"\n",
    "    PREFIX : <https://raw.githubusercontent.com/MaddaGh/DataProcessing_EmoAnnotation/main/meaw.ttl#> \n",
    "    PREFIX dul: <http://www.loa-cnr.it/ontologies/DUL.owl#>\n",
    "    PREFIX rdf: <http://www.w3.org/1999/02/22-rdf-syntax-ns#>\n",
    "    \n",
    "    SELECT ?agent ?name \n",
    "    WHERE {\n",
    "        ?ts :involvesAgent ?agent;\n",
    "            :hasTitle \"Welles Nietes\".\n",
    "        ?agent a :Person.\n",
    "        OPTIONAL{\n",
    "            ?agent :hasName ?name\n",
    "        }\n",
    "\n",
    "    }\n",
    "\n",
    "\n",
    "\"\"\"\n",
    "\n",
    "results = modelet1.query(cq1)\n",
    "\n",
    "for row in results:\n",
    "    print(row)\n",
    "    print(\"\\n\")"
   ]
  },
  {
   "cell_type": "markdown",
   "metadata": {},
   "source": [
    "#### 2. Who is the person who appears to be expressing more emotions? What is their role?\n",
    "\n",
    "Expected result: \n",
    "\n",
    "A list of people, if present their name, their roles, and the number of utterances in which they are expressing emotions. Sorted in descending order.\n",
    "\n",
    "* 358uU9uAvl), Legien Kromkamp, H, 1\n",
    "* Zqlw6RZQeX, SA, 3\n",
    "* iBhFqi9HqQ, Adelheid Roosen. G, 5"
   ]
  },
  {
   "cell_type": "code",
   "execution_count": 114,
   "metadata": {},
   "outputs": [
    {
     "name": "stdout",
     "output_type": "stream",
     "text": [
      "(rdflib.term.URIRef('https://raw.githubusercontent.com/MaddaGh/DataProcessing_EmoAnnotation/main/meaw.ttl#iBhFqi9HqQ'), rdflib.term.Literal('Adelheid Roosen'), rdflib.term.URIRef('https://raw.githubusercontent.com/MaddaGh/DataProcessing_EmoAnnotation/main/meaw.ttl#G'), rdflib.term.Literal('5', datatype=rdflib.term.URIRef('http://www.w3.org/2001/XMLSchema#integer')))\n",
      "\n",
      "\n",
      "(rdflib.term.URIRef('https://raw.githubusercontent.com/MaddaGh/DataProcessing_EmoAnnotation/main/meaw.ttl#Zqlw6RZQeX'), None, rdflib.term.URIRef('https://raw.githubusercontent.com/MaddaGh/DataProcessing_EmoAnnotation/main/meaw.ttl#SA'), rdflib.term.Literal('3', datatype=rdflib.term.URIRef('http://www.w3.org/2001/XMLSchema#integer')))\n",
      "\n",
      "\n",
      "(rdflib.term.URIRef('https://raw.githubusercontent.com/MaddaGh/DataProcessing_EmoAnnotation/main/meaw.ttl#358uU9uAvI'), rdflib.term.Literal('Legien Kromkamp'), rdflib.term.URIRef('https://raw.githubusercontent.com/MaddaGh/DataProcessing_EmoAnnotation/main/meaw.ttl#H'), rdflib.term.Literal('1', datatype=rdflib.term.URIRef('http://www.w3.org/2001/XMLSchema#integer')))\n",
      "\n",
      "\n"
     ]
    }
   ],
   "source": [
    "cq2 = \"\"\"\n",
    "    PREFIX : <https://raw.githubusercontent.com/MaddaGh/DataProcessing_EmoAnnotation/main/meaw.ttl#> \n",
    "    PREFIX dul: <http://www.loa-cnr.it/ontologies/DUL.owl#>\n",
    "    PREFIX rdf: <http://www.w3.org/1999/02/22-rdf-syntax-ns#>\n",
    "    \n",
    "    SELECT ?agent ?name ?role (COUNT(?emo) AS ?emo_count)\n",
    "    WHERE {\n",
    "        ?agent :hasConversationRolePlay ?conv_role;\n",
    "                :isExperiencerIn ?emo_ann;\n",
    "               a :Person.\n",
    "        OPTIONAL{\n",
    "            ?agent :hasName ?name\n",
    "        }\n",
    "        ?conv_role :hasRole ?role;\n",
    "                     :hasConversationContext ?ts.\n",
    "        ?ts :hasTitle \"Welles Nietes\".\n",
    "        ?emo_ann :be_emotion ?emo.\n",
    "        \n",
    "    }\n",
    "\n",
    "    GROUP BY ?agent\n",
    "    ORDER BY DESC(?emo_count)\n",
    "\"\"\"\n",
    "\n",
    "results = modelet1.query(cq2)\n",
    "\n",
    "for row in results:\n",
    "    print(row)\n",
    "    print(\"\\n\")"
   ]
  },
  {
   "cell_type": "markdown",
   "metadata": {},
   "source": [
    "#### 3. What are the conversational contexts identified for the utterance starting at 548 seconds in talk show Welles Nietes, and who is the agent?\n",
    "\n",
    "Expected result: \n",
    "\n",
    "A list of conversational frames (id and name) the role of the agent.\n",
    "* 3, argumenting_with_personal_experience, Guest"
   ]
  },
  {
   "cell_type": "code",
   "execution_count": 115,
   "metadata": {},
   "outputs": [
    {
     "name": "stdout",
     "output_type": "stream",
     "text": [
      "(rdflib.term.URIRef('https://raw.githubusercontent.com/MaddaGh/DataProcessing_EmoAnnotation/main/meaw.ttl#3'), rdflib.term.Literal('argumenting_with_personal_experience'), rdflib.term.URIRef('https://raw.githubusercontent.com/MaddaGh/DataProcessing_EmoAnnotation/main/meaw.ttl#G'))\n",
      "\n",
      "\n"
     ]
    }
   ],
   "source": [
    "cq3 = \"\"\"\n",
    "    PREFIX : <https://raw.githubusercontent.com/MaddaGh/DataProcessing_EmoAnnotation/main/meaw.ttl#> \n",
    "    PREFIX dul: <http://www.loa-cnr.it/ontologies/DUL.owl#>\n",
    "    PREFIX rdf: <http://www.w3.org/1999/02/22-rdf-syntax-ns#>\n",
    "    PREFIX rdfs: <http://www.w3.org/2000/01/rdf-schema#>\n",
    "\n",
    "    SELECT ?c_id ?c ?role\n",
    "    WHERE {\n",
    "        ?emo_ann :hasStart \"548\";\n",
    "                :hasContext ?c_id;\n",
    "                :experiencer ?agent.\n",
    "        ?c_id rdfs:comment ?c.\n",
    "        ?agent :hasConversationRolePlay ?rp.\n",
    "        ?rp :hasRole ?role.        \n",
    "    }\n",
    "    \"\"\"\n",
    "results = modelet1.query(cq3)\n",
    "\n",
    "for row in results:\n",
    "    print(row)\n",
    "    print(\"\\n\")"
   ]
  },
  {
   "cell_type": "markdown",
   "metadata": {},
   "source": [
    "#### 4. What are the utterances and conversational frames where Adelheid Rosen is angry? What is her emotion state?\n",
    "\n",
    "Expected result: \n",
    "\n",
    "A list of utterances Id with related conversational context and emotion state annotation.\n",
    "* 2101608040029452931_15_49, disagreeing with opinion, frustration\n",
    "* 2101608040029452931_15_50, disagreeing with opinion, frustration"
   ]
  },
  {
   "cell_type": "code",
   "execution_count": 116,
   "metadata": {},
   "outputs": [
    {
     "name": "stdout",
     "output_type": "stream",
     "text": [
      "(rdflib.term.URIRef('https://raw.githubusercontent.com/MaddaGh/DataProcessing_EmoAnnotation/main/meaw.ttl#2101608040029452931_15_49'), rdflib.term.Literal('disagreeing with opinion'), rdflib.term.URIRef('https://raw.githubusercontent.com/MaddaGh/DataProcessing_EmoAnnotation/main/meaw.ttl#frustration'))\n",
      "\n",
      "\n",
      "(rdflib.term.URIRef('https://raw.githubusercontent.com/MaddaGh/DataProcessing_EmoAnnotation/main/meaw.ttl#2101608040029452931_15_50'), rdflib.term.Literal('disagreeing with opinion'), rdflib.term.URIRef('https://raw.githubusercontent.com/MaddaGh/DataProcessing_EmoAnnotation/main/meaw.ttl#frustration'))\n",
      "\n",
      "\n"
     ]
    }
   ],
   "source": [
    "cq4 = \"\"\"\n",
    "    PREFIX : <https://raw.githubusercontent.com/MaddaGh/DataProcessing_EmoAnnotation/main/meaw.ttl#> \n",
    "    PREFIX dul: <http://www.loa-cnr.it/ontologies/DUL.owl#>\n",
    "    PREFIX rdf: <http://www.w3.org/1999/02/22-rdf-syntax-ns#>\n",
    "\n",
    "    SELECT ?emo_ann_id ?c_name ?es\n",
    "    WHERE {\n",
    "        ?emo_ann_id :be_emotion :anger;\n",
    "                :es_emotion ?es;\n",
    "            :hasContext ?c;\n",
    "            :experiencer ?agent.\n",
    "        ?agent :hasName \"Adelheid Roosen\".\n",
    "        ?c rdfs:comment ?c_name.\n",
    "    }\n",
    "    \"\"\"\n",
    "results = modelet1.query(cq4)\n",
    "\n",
    "for row in results:\n",
    "    print(row)\n",
    "    print(\"\\n\")"
   ]
  },
  {
   "cell_type": "markdown",
   "metadata": {},
   "source": [
    "#### 5. What is the topic of the conversation and what is the talk show with id 2101608050034534331, what is the talk show name? who is the broadcaster and what is the broadcasting date? How many utterances are annotated?\n",
    "\n",
    "Expected result: \n",
    "\n",
    "The name of the talk show, the broadcaster’s name and the broadcasting date, a list of topics, the number of related emotion annotations.\n",
    "\n",
    "* Het Blauwe Licht, VPRO, 17-03-1999, transgender_people, transitioning, religion,  4."
   ]
  },
  {
   "cell_type": "code",
   "execution_count": 117,
   "metadata": {},
   "outputs": [
    {
     "name": "stdout",
     "output_type": "stream",
     "text": [
      "(rdflib.term.Literal('Het Blauwe Licht'), rdflib.term.URIRef('https://raw.githubusercontent.com/MaddaGh/DataProcessing_EmoAnnotation/main/meaw.ttl#VPRO'), rdflib.term.Literal('17-03-1999'), rdflib.term.URIRef('https://raw.githubusercontent.com/MaddaGh/DataProcessing_EmoAnnotation/main/meaw.ttl#religion'), rdflib.term.Literal('4', datatype=rdflib.term.URIRef('http://www.w3.org/2001/XMLSchema#integer')))\n",
      "\n",
      "\n",
      "(rdflib.term.Literal('Het Blauwe Licht'), rdflib.term.URIRef('https://raw.githubusercontent.com/MaddaGh/DataProcessing_EmoAnnotation/main/meaw.ttl#VPRO'), rdflib.term.Literal('17-03-1999'), rdflib.term.URIRef('https://raw.githubusercontent.com/MaddaGh/DataProcessing_EmoAnnotation/main/meaw.ttl#transgender_people'), rdflib.term.Literal('4', datatype=rdflib.term.URIRef('http://www.w3.org/2001/XMLSchema#integer')))\n",
      "\n",
      "\n",
      "(rdflib.term.Literal('Het Blauwe Licht'), rdflib.term.URIRef('https://raw.githubusercontent.com/MaddaGh/DataProcessing_EmoAnnotation/main/meaw.ttl#VPRO'), rdflib.term.Literal('17-03-1999'), rdflib.term.URIRef('https://raw.githubusercontent.com/MaddaGh/DataProcessing_EmoAnnotation/main/meaw.ttl#transitioning'), rdflib.term.Literal('4', datatype=rdflib.term.URIRef('http://www.w3.org/2001/XMLSchema#integer')))\n",
      "\n",
      "\n"
     ]
    }
   ],
   "source": [
    "cq5 = \"\"\"\n",
    "    PREFIX : <https://raw.githubusercontent.com/MaddaGh/DataProcessing_EmoAnnotation/main/meaw.ttl#> \n",
    "    PREFIX dul: <http://www.loa-cnr.it/ontologies/DUL.owl#>\n",
    "    PREFIX rdf: <http://www.w3.org/1999/02/22-rdf-syntax-ns#>\n",
    "\n",
    "    SELECT ?name ?broadcaster ?date ?topic (COUNT(?emo_ann) AS ?emo_count)\n",
    "    WHERE {\n",
    "        ?ts :hasIdentifier \"2101608050034534331\";\n",
    "                             :hasTitle ?name;\n",
    "                            :broadcastedBy ?broadcaster;\n",
    "                            :hasDate ?date;\n",
    "                            :isAbout ?topic;\n",
    "                            dul:isSettingFor ?emo_ann\n",
    "    }\n",
    "        GROUP BY ?topic\n",
    "    \"\"\"\n",
    "results = modelet1.query(cq5)\n",
    "\n",
    "for row in results:\n",
    "    print(row)\n",
    "    print(\"\\n\")"
   ]
  },
  {
   "cell_type": "markdown",
   "metadata": {},
   "source": [
    "#### 6. What is the count of utterances that express anger, grouped by gender?\n",
    "\n",
    "Expected result: \n",
    "\n",
    "The gender of the speaker and the number of the utterances in which they are angry\n",
    "\n",
    "* female, 2"
   ]
  },
  {
   "cell_type": "code",
   "execution_count": 118,
   "metadata": {},
   "outputs": [
    {
     "name": "stdout",
     "output_type": "stream",
     "text": [
      "(rdflib.term.URIRef('https://raw.githubusercontent.com/MaddaGh/DataProcessing_EmoAnnotation/main/meaw.ttl#F'), rdflib.term.Literal('2', datatype=rdflib.term.URIRef('http://www.w3.org/2001/XMLSchema#integer')))\n",
      "\n",
      "\n"
     ]
    }
   ],
   "source": [
    "cq6 = \"\"\"\n",
    "    PREFIX : <https://raw.githubusercontent.com/MaddaGh/DataProcessing_EmoAnnotation/main/meaw.ttl#> \n",
    "    PREFIX dul: <http://www.loa-cnr.it/ontologies/DUL.owl#>\n",
    "    PREFIX rdf: <http://www.w3.org/1999/02/22-rdf-syntax-ns#>\n",
    "\n",
    "    SELECT ?gender (COUNT(?emo_ann) AS ?count)\n",
    "    WHERE {\n",
    "        ?emo_ann :be_emotion :anger;\n",
    "                :experiencer ?agent.\n",
    "        ?agent :hasGender ?gender.  \n",
    "    }\n",
    "    GROUP BY ?gender\n",
    "     \n",
    "    \"\"\"\n",
    "results = modelet1.query(cq6)\n",
    "\n",
    "for row in results:\n",
    "    print(row)\n",
    "    print(\"\\n\")\n"
   ]
  },
  {
   "cell_type": "markdown",
   "metadata": {},
   "source": [
    "#### 7. What is the number of utterances per emotion?\n",
    "\n",
    "Expected result:\n",
    "\n",
    "A basic emotion and the count of utterances where it’s expressed.\n",
    "\n",
    "* sadness, 3\n",
    "* fear, 2\n",
    "* enjoyment, 5\n",
    "* anger, 2\n",
    "* surprise, 2"
   ]
  },
  {
   "cell_type": "code",
   "execution_count": 119,
   "metadata": {},
   "outputs": [
    {
     "name": "stdout",
     "output_type": "stream",
     "text": [
      "(rdflib.term.URIRef('https://raw.githubusercontent.com/MaddaGh/DataProcessing_EmoAnnotation/main/meaw.ttl#sadness'), rdflib.term.Literal('3', datatype=rdflib.term.URIRef('http://www.w3.org/2001/XMLSchema#integer')))\n",
      "\n",
      "\n",
      "(rdflib.term.URIRef('https://raw.githubusercontent.com/MaddaGh/DataProcessing_EmoAnnotation/main/meaw.ttl#fear'), rdflib.term.Literal('2', datatype=rdflib.term.URIRef('http://www.w3.org/2001/XMLSchema#integer')))\n",
      "\n",
      "\n",
      "(rdflib.term.URIRef('https://raw.githubusercontent.com/MaddaGh/DataProcessing_EmoAnnotation/main/meaw.ttl#enjoyment'), rdflib.term.Literal('5', datatype=rdflib.term.URIRef('http://www.w3.org/2001/XMLSchema#integer')))\n",
      "\n",
      "\n",
      "(rdflib.term.URIRef('https://raw.githubusercontent.com/MaddaGh/DataProcessing_EmoAnnotation/main/meaw.ttl#anger'), rdflib.term.Literal('2', datatype=rdflib.term.URIRef('http://www.w3.org/2001/XMLSchema#integer')))\n",
      "\n",
      "\n",
      "(rdflib.term.URIRef('https://raw.githubusercontent.com/MaddaGh/DataProcessing_EmoAnnotation/main/meaw.ttl#surprise'), rdflib.term.Literal('2', datatype=rdflib.term.URIRef('http://www.w3.org/2001/XMLSchema#integer')))\n",
      "\n",
      "\n"
     ]
    }
   ],
   "source": [
    "cq7 = \"\"\"\n",
    "    PREFIX : <https://raw.githubusercontent.com/MaddaGh/DataProcessing_EmoAnnotation/main/meaw.ttl#> \n",
    "    PREFIX dul: <http://www.loa-cnr.it/ontologies/DUL.owl#>\n",
    "    PREFIX rdf: <http://www.w3.org/1999/02/22-rdf-syntax-ns#>\n",
    "\n",
    "    SELECT ?emo (COUNT(?emo_ann) AS ?count)\n",
    "    WHERE {\n",
    "        ?emo_ann :be_emotion ?emo.  \n",
    "    }\n",
    "    GROUP BY ?emo\n",
    "     \n",
    "    \"\"\"\n",
    "results = modelet1.query(cq7)\n",
    "\n",
    "for row in results:\n",
    "    print(row)\n",
    "    print(\"\\n\")"
   ]
  },
  {
   "cell_type": "markdown",
   "metadata": {},
   "source": [
    "#### 8. What words triggers emotions?  \n",
    "\n",
    "Expected result: \n",
    "\n",
    "A list of verbal triggers and respective basic emotion\n",
    "\n",
    "* dat_ik_mij_dus_diep_en_diep_gekwetst_voelt, sadness\n",
    "* en_zwaar_beledigd, sadness\n",
    "* gekwetst, sadness\n",
    "* gekwetst_zijn, sadness\n",
    "* het_is_heel_vreemd_gegeven, surprise\n",
    "* ik_wil_bijna_met_u_op_de_vuist_daarom, anger\n",
    "* k_ben_doodzenuwachtig, fear\n",
    "* k_denk_dus_dat_er_een_heleboel_mensen, sadness\n",
    "* kwijt_hun_werk_kwijt_alles_kwijt_vrienden, fear\n",
    "* leuk, enjoyment\n",
    "* want_het_rare_is, surprise"
   ]
  },
  {
   "cell_type": "code",
   "execution_count": 120,
   "metadata": {},
   "outputs": [
    {
     "name": "stdout",
     "output_type": "stream",
     "text": [
      "(rdflib.term.URIRef('https://raw.githubusercontent.com/MaddaGh/DataProcessing_EmoAnnotation/main/meaw.ttl#gekwetst'), rdflib.term.URIRef('https://raw.githubusercontent.com/MaddaGh/DataProcessing_EmoAnnotation/main/meaw.ttl#sadness'))\n",
      "\n",
      "\n",
      "(rdflib.term.URIRef('https://raw.githubusercontent.com/MaddaGh/DataProcessing_EmoAnnotation/main/meaw.ttl#gekwetst_zijn'), rdflib.term.URIRef('https://raw.githubusercontent.com/MaddaGh/DataProcessing_EmoAnnotation/main/meaw.ttl#sadness'))\n",
      "\n",
      "\n",
      "(rdflib.term.URIRef('https://raw.githubusercontent.com/MaddaGh/DataProcessing_EmoAnnotation/main/meaw.ttl#k_denk_dus_dat_er_een_heleboel_mensen'), rdflib.term.URIRef('https://raw.githubusercontent.com/MaddaGh/DataProcessing_EmoAnnotation/main/meaw.ttl#sadness'))\n",
      "\n",
      "\n",
      "(rdflib.term.URIRef('https://raw.githubusercontent.com/MaddaGh/DataProcessing_EmoAnnotation/main/meaw.ttl#dat_ik_mij_dus_diep_en_diep_gekwetst_voelt'), rdflib.term.URIRef('https://raw.githubusercontent.com/MaddaGh/DataProcessing_EmoAnnotation/main/meaw.ttl#sadness'))\n",
      "\n",
      "\n",
      "(rdflib.term.URIRef('https://raw.githubusercontent.com/MaddaGh/DataProcessing_EmoAnnotation/main/meaw.ttl#en_zwaar_beledigd'), rdflib.term.URIRef('https://raw.githubusercontent.com/MaddaGh/DataProcessing_EmoAnnotation/main/meaw.ttl#sadness'))\n",
      "\n",
      "\n",
      "(rdflib.term.URIRef('https://raw.githubusercontent.com/MaddaGh/DataProcessing_EmoAnnotation/main/meaw.ttl#k_ben_doodzenuwachtig'), rdflib.term.URIRef('https://raw.githubusercontent.com/MaddaGh/DataProcessing_EmoAnnotation/main/meaw.ttl#fear'))\n",
      "\n",
      "\n",
      "(rdflib.term.URIRef('https://raw.githubusercontent.com/MaddaGh/DataProcessing_EmoAnnotation/main/meaw.ttl#kwijt_hun_werk_kwijt_alles_kwijt_vrienden.'), rdflib.term.URIRef('https://raw.githubusercontent.com/MaddaGh/DataProcessing_EmoAnnotation/main/meaw.ttl#fear'))\n",
      "\n",
      "\n",
      "(rdflib.term.URIRef('https://raw.githubusercontent.com/MaddaGh/DataProcessing_EmoAnnotation/main/meaw.ttl#leuk'), rdflib.term.URIRef('https://raw.githubusercontent.com/MaddaGh/DataProcessing_EmoAnnotation/main/meaw.ttl#enjoyment'))\n",
      "\n",
      "\n",
      "(rdflib.term.URIRef('https://raw.githubusercontent.com/MaddaGh/DataProcessing_EmoAnnotation/main/meaw.ttl#want_het_rare_is'), rdflib.term.URIRef('https://raw.githubusercontent.com/MaddaGh/DataProcessing_EmoAnnotation/main/meaw.ttl#enjoyment'))\n",
      "\n",
      "\n",
      "(rdflib.term.URIRef('https://raw.githubusercontent.com/MaddaGh/DataProcessing_EmoAnnotation/main/meaw.ttl#ik_wil_bijna_met_u_op_de_vuist_daarom'), rdflib.term.URIRef('https://raw.githubusercontent.com/MaddaGh/DataProcessing_EmoAnnotation/main/meaw.ttl#anger'))\n",
      "\n",
      "\n",
      "(rdflib.term.URIRef('https://raw.githubusercontent.com/MaddaGh/DataProcessing_EmoAnnotation/main/meaw.ttl#het_is_heel_vreemd_gegeven'), rdflib.term.URIRef('https://raw.githubusercontent.com/MaddaGh/DataProcessing_EmoAnnotation/main/meaw.ttl#surprise'))\n",
      "\n",
      "\n"
     ]
    }
   ],
   "source": [
    "cq8 = \"\"\"\n",
    "    PREFIX : <https://raw.githubusercontent.com/MaddaGh/DataProcessing_EmoAnnotation/main/meaw.ttl#> \n",
    "    PREFIX dul: <http://www.loa-cnr.it/ontologies/DUL.owl#>\n",
    "    PREFIX rdf: <http://www.w3.org/1999/02/22-rdf-syntax-ns#>\n",
    "\n",
    "    SELECT ?trigger ?be\n",
    "    WHERE {\n",
    "        ?emo_ann :be_emotion ?be;\n",
    "                :hasVerbalTrigger ?trigger  \n",
    "    }\n",
    "     \n",
    "    \"\"\"\n",
    "results = modelet1.query(cq8)\n",
    "\n",
    "for row in results:\n",
    "    print(row)\n",
    "    print(\"\\n\")"
   ]
  },
  {
   "cell_type": "markdown",
   "metadata": {},
   "source": [
    "#### 9. What are the utterances where triggers are visual?  \n",
    "\n",
    "Expected result: \n",
    "\n",
    "The id of the utterance, the visual triggers\n",
    "\n",
    "-\t2101608040029452931_15_41, headshake\n",
    "-\t2101608040029452931_15_43, frown\n",
    "-\t2101608040029452931_15_44, look_at_interlocutor, raise eyebrows\n",
    "-\t2101608040029452931_15_46, hand to mouth, raise finger, smile\n",
    "-\t2101608040029452931_15_47, frown\n",
    "-\t2101608040029452931_15_48, frown, close eyes, hand to chest\n",
    "-\t2101608040029452931_15_49, raise finger\n",
    "-\t2101608040029452931_15_50, raise finger, frown\n",
    "-\t101608040029452931_15_51, raise finger, frown, raise inner brow, raise shoulder, raise upper body, stretch mouth, widen eyes\n",
    "-\t2101608040029452931_15_53, leaning forward"
   ]
  },
  {
   "cell_type": "code",
   "execution_count": 121,
   "metadata": {},
   "outputs": [
    {
     "name": "stdout",
     "output_type": "stream",
     "text": [
      "(rdflib.term.URIRef('https://raw.githubusercontent.com/MaddaGh/DataProcessing_EmoAnnotation/main/meaw.ttl#2101608040029452931_15_41'), rdflib.term.URIRef('https://raw.githubusercontent.com/MaddaGh/DataProcessing_EmoAnnotation/main/meaw.ttl#headshake'))\n",
      "\n",
      "\n",
      "(rdflib.term.URIRef('https://raw.githubusercontent.com/MaddaGh/DataProcessing_EmoAnnotation/main/meaw.ttl#2101608040029452931_15_43'), rdflib.term.URIRef('https://raw.githubusercontent.com/MaddaGh/DataProcessing_EmoAnnotation/main/meaw.ttl#frown'))\n",
      "\n",
      "\n",
      "(rdflib.term.URIRef('https://raw.githubusercontent.com/MaddaGh/DataProcessing_EmoAnnotation/main/meaw.ttl#2101608040029452931_15_48'), rdflib.term.URIRef('https://raw.githubusercontent.com/MaddaGh/DataProcessing_EmoAnnotation/main/meaw.ttl#frown'))\n",
      "\n",
      "\n",
      "(rdflib.term.URIRef('https://raw.githubusercontent.com/MaddaGh/DataProcessing_EmoAnnotation/main/meaw.ttl#2101608040029452931_15_50'), rdflib.term.URIRef('https://raw.githubusercontent.com/MaddaGh/DataProcessing_EmoAnnotation/main/meaw.ttl#frown'))\n",
      "\n",
      "\n",
      "(rdflib.term.URIRef('https://raw.githubusercontent.com/MaddaGh/DataProcessing_EmoAnnotation/main/meaw.ttl#2101608040029452931_15_51'), rdflib.term.URIRef('https://raw.githubusercontent.com/MaddaGh/DataProcessing_EmoAnnotation/main/meaw.ttl#frown'))\n",
      "\n",
      "\n",
      "(rdflib.term.URIRef('https://raw.githubusercontent.com/MaddaGh/DataProcessing_EmoAnnotation/main/meaw.ttl#2101608040029452931_15_44'), rdflib.term.URIRef('https://raw.githubusercontent.com/MaddaGh/DataProcessing_EmoAnnotation/main/meaw.ttl#look_at_interlocutor'))\n",
      "\n",
      "\n",
      "(rdflib.term.URIRef('https://raw.githubusercontent.com/MaddaGh/DataProcessing_EmoAnnotation/main/meaw.ttl#2101608040029452931_15_44'), rdflib.term.URIRef('https://raw.githubusercontent.com/MaddaGh/DataProcessing_EmoAnnotation/main/meaw.ttl#raise_eyebrows'))\n",
      "\n",
      "\n",
      "(rdflib.term.URIRef('https://raw.githubusercontent.com/MaddaGh/DataProcessing_EmoAnnotation/main/meaw.ttl#2101608040029452931_15_46'), rdflib.term.URIRef('https://raw.githubusercontent.com/MaddaGh/DataProcessing_EmoAnnotation/main/meaw.ttl#hand_to_mouth'))\n",
      "\n",
      "\n",
      "(rdflib.term.URIRef('https://raw.githubusercontent.com/MaddaGh/DataProcessing_EmoAnnotation/main/meaw.ttl#2101608040029452931_15_46'), rdflib.term.URIRef('https://raw.githubusercontent.com/MaddaGh/DataProcessing_EmoAnnotation/main/meaw.ttl#raise_finger'))\n",
      "\n",
      "\n",
      "(rdflib.term.URIRef('https://raw.githubusercontent.com/MaddaGh/DataProcessing_EmoAnnotation/main/meaw.ttl#2101608040029452931_15_49'), rdflib.term.URIRef('https://raw.githubusercontent.com/MaddaGh/DataProcessing_EmoAnnotation/main/meaw.ttl#raise_finger'))\n",
      "\n",
      "\n",
      "(rdflib.term.URIRef('https://raw.githubusercontent.com/MaddaGh/DataProcessing_EmoAnnotation/main/meaw.ttl#2101608040029452931_15_50'), rdflib.term.URIRef('https://raw.githubusercontent.com/MaddaGh/DataProcessing_EmoAnnotation/main/meaw.ttl#raise_finger'))\n",
      "\n",
      "\n",
      "(rdflib.term.URIRef('https://raw.githubusercontent.com/MaddaGh/DataProcessing_EmoAnnotation/main/meaw.ttl#2101608040029452931_15_51'), rdflib.term.URIRef('https://raw.githubusercontent.com/MaddaGh/DataProcessing_EmoAnnotation/main/meaw.ttl#raise_finger'))\n",
      "\n",
      "\n",
      "(rdflib.term.URIRef('https://raw.githubusercontent.com/MaddaGh/DataProcessing_EmoAnnotation/main/meaw.ttl#2101608040029452931_15_46'), rdflib.term.URIRef('https://raw.githubusercontent.com/MaddaGh/DataProcessing_EmoAnnotation/main/meaw.ttl#smile'))\n",
      "\n",
      "\n",
      "(rdflib.term.URIRef('https://raw.githubusercontent.com/MaddaGh/DataProcessing_EmoAnnotation/main/meaw.ttl#2101608040029452931_15_47'), rdflib.term.URIRef('https://raw.githubusercontent.com/MaddaGh/DataProcessing_EmoAnnotation/main/meaw.ttl#smile'))\n",
      "\n",
      "\n",
      "(rdflib.term.URIRef('https://raw.githubusercontent.com/MaddaGh/DataProcessing_EmoAnnotation/main/meaw.ttl#2101608040029452931_15_48'), rdflib.term.URIRef('https://raw.githubusercontent.com/MaddaGh/DataProcessing_EmoAnnotation/main/meaw.ttl#close_eyes'))\n",
      "\n",
      "\n",
      "(rdflib.term.URIRef('https://raw.githubusercontent.com/MaddaGh/DataProcessing_EmoAnnotation/main/meaw.ttl#2101608040029452931_15_48'), rdflib.term.URIRef('https://raw.githubusercontent.com/MaddaGh/DataProcessing_EmoAnnotation/main/meaw.ttl#hand_to_chest'))\n",
      "\n",
      "\n",
      "(rdflib.term.URIRef('https://raw.githubusercontent.com/MaddaGh/DataProcessing_EmoAnnotation/main/meaw.ttl#2101608040029452931_15_49'), rdflib.term.URIRef('https://raw.githubusercontent.com/MaddaGh/DataProcessing_EmoAnnotation/main/meaw.ttl#shrink_eye'))\n",
      "\n",
      "\n",
      "(rdflib.term.URIRef('https://raw.githubusercontent.com/MaddaGh/DataProcessing_EmoAnnotation/main/meaw.ttl#2101608040029452931_15_50'), rdflib.term.URIRef('https://raw.githubusercontent.com/MaddaGh/DataProcessing_EmoAnnotation/main/meaw.ttl#raise_upper_lip'))\n",
      "\n",
      "\n",
      "(rdflib.term.URIRef('https://raw.githubusercontent.com/MaddaGh/DataProcessing_EmoAnnotation/main/meaw.ttl#2101608040029452931_15_51'), rdflib.term.URIRef('https://raw.githubusercontent.com/MaddaGh/DataProcessing_EmoAnnotation/main/meaw.ttl#raise_inner_brow'))\n",
      "\n",
      "\n",
      "(rdflib.term.URIRef('https://raw.githubusercontent.com/MaddaGh/DataProcessing_EmoAnnotation/main/meaw.ttl#2101608040029452931_15_51'), rdflib.term.URIRef('https://raw.githubusercontent.com/MaddaGh/DataProcessing_EmoAnnotation/main/meaw.ttl#raise_shoulder'))\n",
      "\n",
      "\n",
      "(rdflib.term.URIRef('https://raw.githubusercontent.com/MaddaGh/DataProcessing_EmoAnnotation/main/meaw.ttl#2101608040029452931_15_51'), rdflib.term.URIRef('https://raw.githubusercontent.com/MaddaGh/DataProcessing_EmoAnnotation/main/meaw.ttl#raise_upper_body'))\n",
      "\n",
      "\n",
      "(rdflib.term.URIRef('https://raw.githubusercontent.com/MaddaGh/DataProcessing_EmoAnnotation/main/meaw.ttl#2101608040029452931_15_51'), rdflib.term.URIRef('https://raw.githubusercontent.com/MaddaGh/DataProcessing_EmoAnnotation/main/meaw.ttl#stretch_mouth'))\n",
      "\n",
      "\n",
      "(rdflib.term.URIRef('https://raw.githubusercontent.com/MaddaGh/DataProcessing_EmoAnnotation/main/meaw.ttl#2101608040029452931_15_51'), rdflib.term.URIRef('https://raw.githubusercontent.com/MaddaGh/DataProcessing_EmoAnnotation/main/meaw.ttl#widen_eyes'))\n",
      "\n",
      "\n",
      "(rdflib.term.URIRef('https://raw.githubusercontent.com/MaddaGh/DataProcessing_EmoAnnotation/main/meaw.ttl#2101608040029452931_15_53'), rdflib.term.URIRef('https://raw.githubusercontent.com/MaddaGh/DataProcessing_EmoAnnotation/main/meaw.ttl#leaning_forward'))\n",
      "\n",
      "\n"
     ]
    }
   ],
   "source": [
    "cq9 = \"\"\"\n",
    "    PREFIX : <https://raw.githubusercontent.com/MaddaGh/DataProcessing_EmoAnnotation/main/meaw.ttl#> \n",
    "    PREFIX dul: <http://www.loa-cnr.it/ontologies/DUL.owl#>\n",
    "    PREFIX rdf: <http://www.w3.org/1999/02/22-rdf-syntax-ns#>\n",
    "\n",
    "    SELECT ?emo_ann ?trigger \n",
    "    WHERE {\n",
    "        ?emo_ann :hasVisualTrigger ?trigger\n",
    "    }\n",
    "     \n",
    "    \"\"\"\n",
    "results = modelet1.query(cq9)\n",
    "\n",
    "for row in results:\n",
    "    print(row)\n",
    "    print(\"\\n\")"
   ]
  },
  {
   "cell_type": "markdown",
   "metadata": {},
   "source": [
    "#### 10. What are the utterances where the triggers are aural? \n",
    "\n",
    "Expected result: \n",
    "\n",
    "The id of the utterance, the aural triggers\n",
    "\n",
    "* 2101608050034534331_9_137, intonation\n",
    "\n"
   ]
  },
  {
   "cell_type": "code",
   "execution_count": 122,
   "metadata": {},
   "outputs": [
    {
     "name": "stdout",
     "output_type": "stream",
     "text": [
      "(rdflib.term.URIRef('https://raw.githubusercontent.com/MaddaGh/DataProcessing_EmoAnnotation/main/meaw.ttl#2101608050034534331_9_137'), rdflib.term.URIRef('https://raw.githubusercontent.com/MaddaGh/DataProcessing_EmoAnnotation/main/meaw.ttl#intonation'))\n",
      "\n",
      "\n"
     ]
    }
   ],
   "source": [
    "cq10 = \"\"\"\n",
    "    PREFIX : <https://raw.githubusercontent.com/MaddaGh/DataProcessing_EmoAnnotation/main/meaw.ttl#> \n",
    "    PREFIX dul: <http://www.loa-cnr.it/ontologies/DUL.owl#>\n",
    "    PREFIX rdf: <http://www.w3.org/1999/02/22-rdf-syntax-ns#>\n",
    "\n",
    "    SELECT ?emo_ann ?trigger \n",
    "    WHERE {\n",
    "        ?emo_ann :hasAuralTrigger ?trigger\n",
    "    }\n",
    "     \n",
    "    \"\"\"\n",
    "results = modelet1.query(cq10)\n",
    "\n",
    "for row in results:\n",
    "    print(row)\n",
    "    print(\"\\n\")"
   ]
  },
  {
   "cell_type": "markdown",
   "metadata": {},
   "source": [
    "#### 11. What are the emotion states annotated for utterances that express sadness?\n",
    "\n",
    "Expected results: The utterance text, the emotion states\n",
    "\n",
    "-\tDisappointment: Na jaren gekwetst door de laatste uitzending van adelheid roosen over de transseksuele ik vond dat het in het belachelijke getrokken werd en ik denk dus dat er een heleboel mensen daardoor gekwetst zijn want werd in het seksuele vlak getrokken en dat vond ik dus niet goed.\n",
    "-\tSorrow: Misschien geïnterpreteerd als kwetsend nou ingewikkelde bij zo'n transseksueel is is is dat ik mij dus diep en diep gekwetst voelt en zwaar beledigd om het emotionele af dat mensen die dat uit hebben gezien mij beschuldigen van kwetsuren.\n",
    "-\tDisappointment: Het moet kiezen voor de persoon in kwestie of voor degenen die de talkshow leidt dat ik dus echt met alle respect wie acht minuten aan die persoon wilde geven als mensen dan kwetsend als kwetsend ervaren dan ben ik dus nou daar weer gekwetst en dan houdt het verhaal van mij op het uefa niets meer.\n",
    "-\tSorrow: Het moet kiezen voor de persoon in kwestie of voor degenen die de talkshow leidt dat ik dus echt met alle respect wie acht minuten aan die persoon wilde geven als mensen dan kwetsend als kwetsend ervaren dan ben ik dus nou daar weer gekwetst en dan houdt het verhaal van mij op het uefa niets meer.\n"
   ]
  },
  {
   "cell_type": "code",
   "execution_count": 123,
   "metadata": {},
   "outputs": [
    {
     "name": "stdout",
     "output_type": "stream",
     "text": [
      "(rdflib.term.URIRef('https://raw.githubusercontent.com/MaddaGh/DataProcessing_EmoAnnotation/main/meaw.ttl#disappointment'), rdflib.term.Literal('Na jaren gekwetst door de laatste uitzending van adelheid roosen over de transseksuele ik vond dat het in het belachelijke getrokken werd en ik denk dus dat er een heleboel mensen daardoor gekwetst zijn want werd in het seksuele vlak getrokken en dat vond ik dus niet goed.'))\n",
      "\n",
      "\n",
      "(rdflib.term.URIRef('https://raw.githubusercontent.com/MaddaGh/DataProcessing_EmoAnnotation/main/meaw.ttl#sorrow'), rdflib.term.Literal(\"Misschien geïnterpreteerd als kwetsend nou ingewikkelde bij zo'n transseksueel is is is dat ik mij dus diep en diep gekwetst voelt en zwaar beledigd om het emotionele af dat mensen die dat uit hebben gezien mij beschuldigen van kwetsuren.\"))\n",
      "\n",
      "\n",
      "(rdflib.term.URIRef('https://raw.githubusercontent.com/MaddaGh/DataProcessing_EmoAnnotation/main/meaw.ttl#disappointment'), rdflib.term.Literal('Het moet kiezen voor de persoon in kwestie of voor degenen die de talkshow leidt dat ik dus echt met alle respect wie acht minuten aan die persoon wilde geven als mensen dan kwetsend als kwetsend ervaren dan ben ik dus nou daar weer gekwetst en dan houdt het verhaal van mij op het uefa niets meer.'))\n",
      "\n",
      "\n",
      "(rdflib.term.URIRef('https://raw.githubusercontent.com/MaddaGh/DataProcessing_EmoAnnotation/main/meaw.ttl#sorrow'), rdflib.term.Literal('Het moet kiezen voor de persoon in kwestie of voor degenen die de talkshow leidt dat ik dus echt met alle respect wie acht minuten aan die persoon wilde geven als mensen dan kwetsend als kwetsend ervaren dan ben ik dus nou daar weer gekwetst en dan houdt het verhaal van mij op het uefa niets meer.'))\n",
      "\n",
      "\n"
     ]
    }
   ],
   "source": [
    "cq11 = \"\"\"\n",
    "    PREFIX : <https://raw.githubusercontent.com/MaddaGh/DataProcessing_EmoAnnotation/main/meaw.ttl#> \n",
    "    PREFIX dul: <http://www.loa-cnr.it/ontologies/DUL.owl#>\n",
    "    PREFIX rdf: <http://www.w3.org/1999/02/22-rdf-syntax-ns#>\n",
    "\n",
    "    SELECT ?es ?text\n",
    "    WHERE {\n",
    "        ?emo_ann :be_emotion :sadness;\n",
    "                :es_emotion ?es;\n",
    "                :hasText ?text.\n",
    "    }\n",
    "     \n",
    "    \"\"\"\n",
    "results = modelet1.query(cq11)\n",
    "\n",
    "for row in results:\n",
    "    print(row)\n",
    "    print(\"\\n\")"
   ]
  },
  {
   "cell_type": "markdown",
   "metadata": {},
   "source": [
    "#### 12. What utterances have a camera framing interpretation? What is the basic emotion?\n",
    "\n",
    "Expected results:\n",
    "\n",
    "utterance id, framing interpretation, basic emotion\n",
    "\n"
   ]
  },
  {
   "cell_type": "code",
   "execution_count": 124,
   "metadata": {},
   "outputs": [
    {
     "name": "stdout",
     "output_type": "stream",
     "text": [
      "(rdflib.term.URIRef('https://raw.githubusercontent.com/MaddaGh/DataProcessing_EmoAnnotation/main/meaw.ttl#2101608040029452931_15_41'), rdflib.term.URIRef('https://raw.githubusercontent.com/MaddaGh/DataProcessing_EmoAnnotation/main/meaw.ttl#engaging_with'), rdflib.term.URIRef('https://raw.githubusercontent.com/MaddaGh/DataProcessing_EmoAnnotation/main/meaw.ttl#sadness'))\n",
      "\n",
      "\n",
      "(rdflib.term.URIRef('https://raw.githubusercontent.com/MaddaGh/DataProcessing_EmoAnnotation/main/meaw.ttl#2101608040029452931_15_43'), rdflib.term.URIRef('https://raw.githubusercontent.com/MaddaGh/DataProcessing_EmoAnnotation/main/meaw.ttl#involvement'), rdflib.term.URIRef('https://raw.githubusercontent.com/MaddaGh/DataProcessing_EmoAnnotation/main/meaw.ttl#fear'))\n",
      "\n",
      "\n",
      "(rdflib.term.URIRef('https://raw.githubusercontent.com/MaddaGh/DataProcessing_EmoAnnotation/main/meaw.ttl#2101608040029452931_15_46'), rdflib.term.URIRef('https://raw.githubusercontent.com/MaddaGh/DataProcessing_EmoAnnotation/main/meaw.ttl#contextualizing'), rdflib.term.URIRef('https://raw.githubusercontent.com/MaddaGh/DataProcessing_EmoAnnotation/main/meaw.ttl#enjoyment'))\n",
      "\n",
      "\n",
      "(rdflib.term.URIRef('https://raw.githubusercontent.com/MaddaGh/DataProcessing_EmoAnnotation/main/meaw.ttl#2101608040029452931_15_50'), rdflib.term.URIRef('https://raw.githubusercontent.com/MaddaGh/DataProcessing_EmoAnnotation/main/meaw.ttl#involvement'), rdflib.term.URIRef('https://raw.githubusercontent.com/MaddaGh/DataProcessing_EmoAnnotation/main/meaw.ttl#anger'))\n",
      "\n",
      "\n"
     ]
    }
   ],
   "source": [
    "cq12 = \"\"\"\n",
    "    PREFIX : <https://raw.githubusercontent.com/MaddaGh/DataProcessing_EmoAnnotation/main/meaw.ttl#> \n",
    "    PREFIX dul: <http://www.loa-cnr.it/ontologies/DUL.owl#>\n",
    "    PREFIX rdf: <http://www.w3.org/1999/02/22-rdf-syntax-ns#>\n",
    "\n",
    "    \n",
    "    SELECT ?emo_ann ?fi ?be\n",
    "\n",
    "    WHERE{\n",
    "    ?emo_ann :hasCameraFramingInterpretation ?fi;\n",
    "            :be_emotion ?be\n",
    "          \n",
    "}\n",
    "\n",
    "    \"\"\"\n",
    "results = modelet1.query(cq12)\n",
    "\n",
    "for row in results:\n",
    "    print(row)\n",
    "    print(\"\\n\")"
   ]
  },
  {
   "cell_type": "markdown",
   "metadata": {},
   "source": [
    "#### 13. What are the types of frames that compose utterances where anger is shown?\n",
    "\n",
    "Expected results:\n",
    "\n",
    "utterance id, reference of shot, type of shot\n",
    "\n",
    "-\t2101608040029452931_15_49, 0, close up\n",
    "-\t2101608040029452931_15_49, 1, medium close up\n",
    "-\t2101608040029452931_15_49, 2, medium close up\n",
    "-\t2101608040029452931_15_49, 3, medium close up\n",
    "-\t2101608040029452931_15_50, 0, medium close up"
   ]
  },
  {
   "cell_type": "code",
   "execution_count": 125,
   "metadata": {},
   "outputs": [
    {
     "name": "stdout",
     "output_type": "stream",
     "text": [
      "(rdflib.term.URIRef('https://raw.githubusercontent.com/MaddaGh/DataProcessing_EmoAnnotation/main/meaw.ttl#2101608040029452931_15_49'), rdflib.term.URIRef('https://raw.githubusercontent.com/MaddaGh/DataProcessing_EmoAnnotation/main/meaw.ttl#2101608040029452931_15_49_utterance_0'), rdflib.term.URIRef('https://raw.githubusercontent.com/MaddaGh/DataProcessing_EmoAnnotation/main/meaw.ttl#close_up'))\n",
      "\n",
      "\n",
      "(rdflib.term.URIRef('https://raw.githubusercontent.com/MaddaGh/DataProcessing_EmoAnnotation/main/meaw.ttl#2101608040029452931_15_49'), rdflib.term.URIRef('https://raw.githubusercontent.com/MaddaGh/DataProcessing_EmoAnnotation/main/meaw.ttl#2101608040029452931_15_49_utterance_1'), rdflib.term.URIRef('https://raw.githubusercontent.com/MaddaGh/DataProcessing_EmoAnnotation/main/meaw.ttl#medium_close_up'))\n",
      "\n",
      "\n",
      "(rdflib.term.URIRef('https://raw.githubusercontent.com/MaddaGh/DataProcessing_EmoAnnotation/main/meaw.ttl#2101608040029452931_15_49'), rdflib.term.URIRef('https://raw.githubusercontent.com/MaddaGh/DataProcessing_EmoAnnotation/main/meaw.ttl#2101608040029452931_15_49_utterance_2'), rdflib.term.URIRef('https://raw.githubusercontent.com/MaddaGh/DataProcessing_EmoAnnotation/main/meaw.ttl#medium_close_up'))\n",
      "\n",
      "\n",
      "(rdflib.term.URIRef('https://raw.githubusercontent.com/MaddaGh/DataProcessing_EmoAnnotation/main/meaw.ttl#2101608040029452931_15_49'), rdflib.term.URIRef('https://raw.githubusercontent.com/MaddaGh/DataProcessing_EmoAnnotation/main/meaw.ttl#2101608040029452931_15_49_utterance_3'), rdflib.term.URIRef('https://raw.githubusercontent.com/MaddaGh/DataProcessing_EmoAnnotation/main/meaw.ttl#medium_close_up'))\n",
      "\n",
      "\n",
      "(rdflib.term.URIRef('https://raw.githubusercontent.com/MaddaGh/DataProcessing_EmoAnnotation/main/meaw.ttl#2101608040029452931_15_50'), rdflib.term.URIRef('https://raw.githubusercontent.com/MaddaGh/DataProcessing_EmoAnnotation/main/meaw.ttl#2101608040029452931_15_50_utterance_0'), rdflib.term.URIRef('https://raw.githubusercontent.com/MaddaGh/DataProcessing_EmoAnnotation/main/meaw.ttl#medium_close_up'))\n",
      "\n",
      "\n"
     ]
    }
   ],
   "source": [
    "cq13 = \"\"\"\n",
    "    PREFIX : <https://raw.githubusercontent.com/MaddaGh/DataProcessing_EmoAnnotation/main/meaw.ttl#> \n",
    "    PREFIX dul: <http://www.loa-cnr.it/ontologies/DUL.owl#>\n",
    "    PREFIX rdf: <http://www.w3.org/1999/02/22-rdf-syntax-ns#>\n",
    "\n",
    "    \n",
    "    SELECT DISTINCT ?emo_ann ?shot ?shottype \n",
    "\n",
    "    WHERE{\n",
    "        ?emo_ann :framedBy ?shot;\n",
    "                :be_emotion :anger.\n",
    "        ?shot :hasShotType  ?shottype.\n",
    "\n",
    "        }\n",
    "\"\"\"\n",
    "\n",
    "results = modelet1.query(cq13)\n",
    "\n",
    "for row in results:\n",
    "    print(row)\n",
    "    print(\"\\n\")"
   ]
  },
  {
   "cell_type": "markdown",
   "metadata": {},
   "source": [
    "#### 14. What type of visual cues are shown in medium close ups where enjoyment is expressed?\n",
    "\n",
    "Expected results:\n",
    "\n",
    "A list of types of types of visual cues, the visual cues\n",
    "\n",
    "Face Movement, smile"
   ]
  },
  {
   "cell_type": "code",
   "execution_count": 126,
   "metadata": {},
   "outputs": [
    {
     "name": "stdout",
     "output_type": "stream",
     "text": [
      "(rdflib.term.URIRef('https://raw.githubusercontent.com/MaddaGh/DataProcessing_EmoAnnotation/main/meaw.ttl#FaceMovement'), rdflib.term.URIRef('https://raw.githubusercontent.com/MaddaGh/DataProcessing_EmoAnnotation/main/meaw.ttl#frown'))\n",
      "\n",
      "\n"
     ]
    }
   ],
   "source": [
    "cq14 = \"\"\"\n",
    "    PREFIX : <https://raw.githubusercontent.com/MaddaGh/DataProcessing_EmoAnnotation/main/meaw.ttl#> \n",
    "    PREFIX dul: <http://www.loa-cnr.it/ontologies/DUL.owl#>\n",
    "    PREFIX rdf: <http://www.w3.org/1999/02/22-rdf-syntax-ns#>\n",
    "    PREFIX rdfs: <http://www.w3.org/2000/01/rdf-schema#>\n",
    "\n",
    "    \n",
    "    SELECT ?vis_type ?vis_cue\n",
    "\n",
    "    WHERE{\n",
    "        ?emo_ann :framedBy ?shot;\n",
    "                :be_emotion :enjoyment.\n",
    "        ?shot :hasShotType  :medium_close_up;\n",
    "            dul:realizes ?vis_cue.\n",
    "        ?vis_cue a ?vis_type.\n",
    "        ?vis_type  rdfs:subClassOf :HumanVisualContent.        \n",
    "        }\n",
    "\"\"\"\n",
    "\n",
    "results = modelet1.query(cq14)\n",
    "\n",
    "for row in results:\n",
    "    print(row)\n",
    "    print(\"\\n\")"
   ]
  },
  {
   "cell_type": "markdown",
   "metadata": {},
   "source": [
    "#### 15. What facial expressions are shown in shots of utterances where sadness is expressed by the experiencer?\n",
    "\n",
    "Expected result:\n",
    "\n",
    "A list of face movements.\n",
    "\n",
    "* close eyes \n",
    "* frown\n",
    "* widen eyes \n",
    "* stretch mouth\n",
    "* raise inner brow"
   ]
  },
  {
   "cell_type": "code",
   "execution_count": 128,
   "metadata": {},
   "outputs": [
    {
     "name": "stdout",
     "output_type": "stream",
     "text": [
      "(rdflib.term.URIRef('https://raw.githubusercontent.com/MaddaGh/DataProcessing_EmoAnnotation/main/meaw.ttl#close_eyes'),)\n",
      "\n",
      "\n",
      "(rdflib.term.URIRef('https://raw.githubusercontent.com/MaddaGh/DataProcessing_EmoAnnotation/main/meaw.ttl#frown'),)\n",
      "\n",
      "\n",
      "(rdflib.term.URIRef('https://raw.githubusercontent.com/MaddaGh/DataProcessing_EmoAnnotation/main/meaw.ttl#raise_inner_brow'),)\n",
      "\n",
      "\n",
      "(rdflib.term.URIRef('https://raw.githubusercontent.com/MaddaGh/DataProcessing_EmoAnnotation/main/meaw.ttl#stretch_mouth'),)\n",
      "\n",
      "\n",
      "(rdflib.term.URIRef('https://raw.githubusercontent.com/MaddaGh/DataProcessing_EmoAnnotation/main/meaw.ttl#widen_eyes'),)\n",
      "\n",
      "\n"
     ]
    }
   ],
   "source": [
    "cq15 = \"\"\"\n",
    "    PREFIX : <https://raw.githubusercontent.com/MaddaGh/DataProcessing_EmoAnnotation/main/meaw.ttl#> \n",
    "    PREFIX dul: <http://www.loa-cnr.it/ontologies/DUL.owl#>\n",
    "    PREFIX rdf: <http://www.w3.org/1999/02/22-rdf-syntax-ns#>\n",
    "    PREFIX rdfs: <http://www.w3.org/2000/01/rdf-schema#>\n",
    "\n",
    "    \n",
    "    SELECT DISTINCT ?face_mov\n",
    "\n",
    "    WHERE{\n",
    "        ?emo_ann :framedBy ?shot;\n",
    "                :be_emotion :sadness.\n",
    "        ?shot dul:realizes ?face_mov.\n",
    "        ?face_mov a :FaceMovement.\n",
    "        \n",
    "        }\n",
    "\"\"\"\n",
    "\n",
    "results = modelet1.query(cq15)\n",
    "\n",
    "for row in results:\n",
    "    print(row)\n",
    "    print(\"\\n\")"
   ]
  },
  {
   "cell_type": "markdown",
   "metadata": {},
   "source": [
    "#### 16. What utterances have frames with voiceover? \n",
    "Expected result:\n",
    "\n",
    "A list of utterances\n",
    "\n",
    "-   2101608040029452931_15_43\n",
    "-\t2101608040029452931_15_44\n",
    "-\t2101608040029452931_15_47\n",
    "-\t2101608040029452931_15_49\n"
   ]
  },
  {
   "cell_type": "code",
   "execution_count": 130,
   "metadata": {},
   "outputs": [
    {
     "name": "stdout",
     "output_type": "stream",
     "text": [
      "(rdflib.term.URIRef('https://raw.githubusercontent.com/MaddaGh/DataProcessing_EmoAnnotation/main/meaw.ttl#2101608040029452931_15_43'),)\n",
      "\n",
      "\n",
      "(rdflib.term.URIRef('https://raw.githubusercontent.com/MaddaGh/DataProcessing_EmoAnnotation/main/meaw.ttl#2101608040029452931_15_44'),)\n",
      "\n",
      "\n",
      "(rdflib.term.URIRef('https://raw.githubusercontent.com/MaddaGh/DataProcessing_EmoAnnotation/main/meaw.ttl#2101608040029452931_15_47'),)\n",
      "\n",
      "\n",
      "(rdflib.term.URIRef('https://raw.githubusercontent.com/MaddaGh/DataProcessing_EmoAnnotation/main/meaw.ttl#2101608040029452931_15_49'),)\n",
      "\n",
      "\n"
     ]
    }
   ],
   "source": [
    "cq16 = \"\"\"\n",
    "    PREFIX : <https://raw.githubusercontent.com/MaddaGh/DataProcessing_EmoAnnotation/main/meaw.ttl#> \n",
    "    PREFIX dul: <http://www.loa-cnr.it/ontologies/DUL.owl#>\n",
    "    PREFIX rdf: <http://www.w3.org/1999/02/22-rdf-syntax-ns#>\n",
    "    PREFIX rdfs: <http://www.w3.org/2000/01/rdf-schema#>\n",
    "\n",
    "    \n",
    "    SELECT DISTINCT ?emo_ann\n",
    "\n",
    "    WHERE{\n",
    "        ?emo_ann :framedBy ?shot.\n",
    "        ?shot :hasAuralComposition :voiceover.       \n",
    "        }\n",
    "\"\"\"\n",
    "\n",
    "results = modelet1.query(cq16)\n",
    "\n",
    "for row in results:\n",
    "    print(row)\n",
    "    print(\"\\n\")"
   ]
  },
  {
   "cell_type": "markdown",
   "metadata": {},
   "source": [
    "#### 17. What is shown in utterances where speech is not aligned with the video? What is their aural composition? With what type of shot are they framed?\n",
    "\n",
    "Expected result:\n",
    "\n",
    "The utterance id, the aural composition, visual triggers \n",
    "\n"
   ]
  },
  {
   "cell_type": "code",
   "execution_count": 133,
   "metadata": {},
   "outputs": [
    {
     "name": "stdout",
     "output_type": "stream",
     "text": [
      "(rdflib.term.URIRef('https://raw.githubusercontent.com/MaddaGh/DataProcessing_EmoAnnotation/main/meaw.ttl#2101608040029452931_15_46'), rdflib.term.URIRef('https://raw.githubusercontent.com/MaddaGh/DataProcessing_EmoAnnotation/main/meaw.ttl#hand_to_mouth'))\n",
      "\n",
      "\n",
      "(rdflib.term.URIRef('https://raw.githubusercontent.com/MaddaGh/DataProcessing_EmoAnnotation/main/meaw.ttl#2101608040029452931_15_46'), rdflib.term.URIRef('https://raw.githubusercontent.com/MaddaGh/DataProcessing_EmoAnnotation/main/meaw.ttl#raise_finger'))\n",
      "\n",
      "\n",
      "(rdflib.term.URIRef('https://raw.githubusercontent.com/MaddaGh/DataProcessing_EmoAnnotation/main/meaw.ttl#2101608040029452931_15_46'), rdflib.term.URIRef('https://raw.githubusercontent.com/MaddaGh/DataProcessing_EmoAnnotation/main/meaw.ttl#smile'))\n",
      "\n",
      "\n"
     ]
    }
   ],
   "source": [
    "cq17 = \"\"\"\n",
    "    PREFIX : <https://raw.githubusercontent.com/MaddaGh/DataProcessing_EmoAnnotation/main/meaw.ttl#> \n",
    "    PREFIX dul: <http://www.loa-cnr.it/ontologies/DUL.owl#>\n",
    "    PREFIX rdf: <http://www.w3.org/1999/02/22-rdf-syntax-ns#>\n",
    "    PREFIX rdfs: <http://www.w3.org/2000/01/rdf-schema#>\n",
    "\n",
    "    \n",
    "    SELECT DISTINCT ?emo_ann ?vt\n",
    "\n",
    "    WHERE{\n",
    "        ?emo_ann :framedBy ?shot.\n",
    "        \n",
    "        OPTIONAL{\n",
    "        ?emo_ann :hasVisualTrigger ?vt\n",
    "        }\n",
    "        \n",
    "        ?shot :hasAuralComposition :speech_overlap. \n",
    "        }\n",
    "\"\"\"\n",
    "\n",
    "results = modelet1.query(cq17)\n",
    "\n",
    "for row in results:\n",
    "    print(row)\n",
    "    print(\"\\n\")"
   ]
  }
 ],
 "metadata": {
  "kernelspec": {
   "display_name": "Python 3",
   "language": "python",
   "name": "python3"
  },
  "language_info": {
   "codemirror_mode": {
    "name": "ipython",
    "version": 3
   },
   "file_extension": ".py",
   "mimetype": "text/x-python",
   "name": "python",
   "nbconvert_exporter": "python",
   "pygments_lexer": "ipython3",
   "version": "3.10.4"
  }
 },
 "nbformat": 4,
 "nbformat_minor": 2
}
